{
 "cells": [
  {
   "cell_type": "code",
   "execution_count": 1,
   "id": "220156ef",
   "metadata": {},
   "outputs": [],
   "source": [
    "# Imported necessary libraries\n",
    "import pandas as pd\n",
    "import numpy as np\n",
    "from sklearn.svm import SVC\n",
    "from sklearn.model_selection import train_test_split\n",
    "from sklearn.feature_extraction.text import TfidfVectorizer\n",
    "from sklearn.linear_model import LogisticRegression\n",
    "from sklearn.metrics import accuracy_score, classification_report\n"
   ]
  },
  {
   "cell_type": "code",
   "execution_count": 2,
   "id": "6f99efc8",
   "metadata": {},
   "outputs": [],
   "source": [
    "train_path = 'train_data.txt'\n",
    "train_output_path = 'train_dataset.csv'\n",
    "columns_train = ['ID', 'TITLE', 'GENRE', 'DESCRIPTION']\n",
    "df_train = pd.read_csv(train_path, sep=':::', header=None, names=columns_train, engine='python')\n",
    "df_train.to_csv(train_output_path, index=False)"
   ]
  },
  {
   "cell_type": "code",
   "execution_count": 3,
   "id": "8f103ce2",
   "metadata": {},
   "outputs": [
    {
     "data": {
      "text/plain": [
       "(54214, 4)"
      ]
     },
     "execution_count": 3,
     "metadata": {},
     "output_type": "execute_result"
    }
   ],
   "source": [
    "df_train.shape"
   ]
  },
  {
   "cell_type": "code",
   "execution_count": 4,
   "id": "4c908a66",
   "metadata": {},
   "outputs": [
    {
     "data": {
      "text/html": [
       "<div>\n",
       "<style scoped>\n",
       "    .dataframe tbody tr th:only-of-type {\n",
       "        vertical-align: middle;\n",
       "    }\n",
       "\n",
       "    .dataframe tbody tr th {\n",
       "        vertical-align: top;\n",
       "    }\n",
       "\n",
       "    .dataframe thead th {\n",
       "        text-align: right;\n",
       "    }\n",
       "</style>\n",
       "<table border=\"1\" class=\"dataframe\">\n",
       "  <thead>\n",
       "    <tr style=\"text-align: right;\">\n",
       "      <th></th>\n",
       "      <th>ID</th>\n",
       "      <th>TITLE</th>\n",
       "      <th>GENRE</th>\n",
       "      <th>DESCRIPTION</th>\n",
       "    </tr>\n",
       "  </thead>\n",
       "  <tbody>\n",
       "    <tr>\n",
       "      <th>0</th>\n",
       "      <td>\"1</td>\n",
       "      <td>Oscar et la dame rose (2009)</td>\n",
       "      <td>drama</td>\n",
       "      <td>Listening in to a conversation between his do...</td>\n",
       "    </tr>\n",
       "    <tr>\n",
       "      <th>1</th>\n",
       "      <td>2</td>\n",
       "      <td>Cupid (1997)</td>\n",
       "      <td>thriller</td>\n",
       "      <td>A brother and sister with a past incestuous r...</td>\n",
       "    </tr>\n",
       "    <tr>\n",
       "      <th>2</th>\n",
       "      <td>\"3</td>\n",
       "      <td>Young, Wild and Wonderful (1980)</td>\n",
       "      <td>adult</td>\n",
       "      <td>As the bus empties the students for their fie...</td>\n",
       "    </tr>\n",
       "    <tr>\n",
       "      <th>3</th>\n",
       "      <td>\"4</td>\n",
       "      <td>The Secret Sin (1915)</td>\n",
       "      <td>drama</td>\n",
       "      <td>To help their unemployed father make ends mee...</td>\n",
       "    </tr>\n",
       "    <tr>\n",
       "      <th>4</th>\n",
       "      <td>\"5</td>\n",
       "      <td>The Unrecovered (2007)</td>\n",
       "      <td>drama</td>\n",
       "      <td>The film's title refers not only to the un-re...</td>\n",
       "    </tr>\n",
       "    <tr>\n",
       "      <th>...</th>\n",
       "      <td>...</td>\n",
       "      <td>...</td>\n",
       "      <td>...</td>\n",
       "      <td>...</td>\n",
       "    </tr>\n",
       "    <tr>\n",
       "      <th>54209</th>\n",
       "      <td>\"54210</td>\n",
       "      <td>\"\"Bonino\"\" (1953)</td>\n",
       "      <td>comedy</td>\n",
       "      <td>This short-lived NBC live sitcom centered on ...</td>\n",
       "    </tr>\n",
       "    <tr>\n",
       "      <th>54210</th>\n",
       "      <td>\"54211</td>\n",
       "      <td>Dead Girls Don't Cry (????)</td>\n",
       "      <td>horror</td>\n",
       "      <td>The NEXT Generation of EXPLOITATION. The sist...</td>\n",
       "    </tr>\n",
       "    <tr>\n",
       "      <th>54211</th>\n",
       "      <td>\"54212</td>\n",
       "      <td>Ronald Goedemondt: Ze bestaan echt (2008)</td>\n",
       "      <td>documentary</td>\n",
       "      <td>Ze bestaan echt, is a stand-up comedy about g...</td>\n",
       "    </tr>\n",
       "    <tr>\n",
       "      <th>54212</th>\n",
       "      <td>\"54213</td>\n",
       "      <td>Make Your Own Bed (1944)</td>\n",
       "      <td>comedy</td>\n",
       "      <td>Walter and Vivian live in the country and hav...</td>\n",
       "    </tr>\n",
       "    <tr>\n",
       "      <th>54213</th>\n",
       "      <td>\"54214</td>\n",
       "      <td>Nature's Fury: Storm of the Century (2006)</td>\n",
       "      <td>history</td>\n",
       "      <td>On Labor Day Weekend, 1935, the most intense ...</td>\n",
       "    </tr>\n",
       "  </tbody>\n",
       "</table>\n",
       "<p>54214 rows × 4 columns</p>\n",
       "</div>"
      ],
      "text/plain": [
       "            ID                                         TITLE          GENRE  \\\n",
       "0          \"1                  Oscar et la dame rose (2009)          drama    \n",
       "1           2                                  Cupid (1997)       thriller    \n",
       "2          \"3              Young, Wild and Wonderful (1980)          adult    \n",
       "3          \"4                         The Secret Sin (1915)          drama    \n",
       "4          \"5                        The Unrecovered (2007)          drama    \n",
       "...        ...                                           ...            ...   \n",
       "54209  \"54210                             \"\"Bonino\"\" (1953)         comedy    \n",
       "54210  \"54211                   Dead Girls Don't Cry (????)         horror    \n",
       "54211  \"54212     Ronald Goedemondt: Ze bestaan echt (2008)    documentary    \n",
       "54212  \"54213                      Make Your Own Bed (1944)         comedy    \n",
       "54213  \"54214    Nature's Fury: Storm of the Century (2006)        history    \n",
       "\n",
       "                                             DESCRIPTION  \n",
       "0       Listening in to a conversation between his do...  \n",
       "1       A brother and sister with a past incestuous r...  \n",
       "2       As the bus empties the students for their fie...  \n",
       "3       To help their unemployed father make ends mee...  \n",
       "4       The film's title refers not only to the un-re...  \n",
       "...                                                  ...  \n",
       "54209   This short-lived NBC live sitcom centered on ...  \n",
       "54210   The NEXT Generation of EXPLOITATION. The sist...  \n",
       "54211   Ze bestaan echt, is a stand-up comedy about g...  \n",
       "54212   Walter and Vivian live in the country and hav...  \n",
       "54213   On Labor Day Weekend, 1935, the most intense ...  \n",
       "\n",
       "[54214 rows x 4 columns]"
      ]
     },
     "execution_count": 4,
     "metadata": {},
     "output_type": "execute_result"
    }
   ],
   "source": [
    "df_train"
   ]
  },
  {
   "cell_type": "code",
   "execution_count": 5,
   "id": "f94b2cbc",
   "metadata": {},
   "outputs": [],
   "source": [
    "df_train=df_train.dropna()"
   ]
  },
  {
   "cell_type": "code",
   "execution_count": 6,
   "id": "7e878b39",
   "metadata": {},
   "outputs": [],
   "source": [
    "df_train['ID'] = df_train['ID'].str.replace('\"', '')"
   ]
  },
  {
   "cell_type": "code",
   "execution_count": 7,
   "id": "e61c9d47",
   "metadata": {},
   "outputs": [],
   "source": [
    "genre_counts=df_train.GENRE.value_counts()"
   ]
  },
  {
   "cell_type": "code",
   "execution_count": 8,
   "id": "e305c840",
   "metadata": {},
   "outputs": [],
   "source": [
    "genre_label_mapping = {genre: rank for rank, (genre, count) in enumerate(genre_counts.items(), start=1)}"
   ]
  },
  {
   "cell_type": "code",
   "execution_count": 9,
   "id": "1801f219",
   "metadata": {},
   "outputs": [],
   "source": [
    "df_train['Classify'] = df_train['GENRE'].map(genre_label_mapping)"
   ]
  },
  {
   "cell_type": "code",
   "execution_count": 10,
   "id": "39c53278",
   "metadata": {},
   "outputs": [
    {
     "data": {
      "text/plain": [
       "GENRE\n",
       " drama           13613\n",
       " documentary     13096\n",
       " comedy           7447\n",
       " short            5073\n",
       " horror           2204\n",
       " thriller         1591\n",
       " action           1315\n",
       " western          1032\n",
       " reality-tv        884\n",
       " family            784\n",
       " adventure         775\n",
       " music             731\n",
       " romance           672\n",
       " sci-fi            647\n",
       " adult             590\n",
       " crime             505\n",
       " animation         498\n",
       " sport             432\n",
       " talk-show         391\n",
       " fantasy           323\n",
       " mystery           319\n",
       " musical           277\n",
       " biography         265\n",
       " history           243\n",
       " game-show         194\n",
       " news              181\n",
       " war               132\n",
       "Name: count, dtype: int64"
      ]
     },
     "execution_count": 10,
     "metadata": {},
     "output_type": "execute_result"
    }
   ],
   "source": [
    "df_train.GENRE.value_counts()"
   ]
  },
  {
   "cell_type": "code",
   "execution_count": 11,
   "id": "1bfcc157",
   "metadata": {},
   "outputs": [
    {
     "data": {
      "text/plain": [
       "Classify\n",
       "1     13613\n",
       "2     13096\n",
       "3      7447\n",
       "4      5073\n",
       "5      2204\n",
       "6      1591\n",
       "7      1315\n",
       "8      1032\n",
       "9       884\n",
       "10      784\n",
       "11      775\n",
       "12      731\n",
       "13      672\n",
       "14      647\n",
       "15      590\n",
       "16      505\n",
       "17      498\n",
       "18      432\n",
       "19      391\n",
       "20      323\n",
       "21      319\n",
       "22      277\n",
       "23      265\n",
       "24      243\n",
       "25      194\n",
       "26      181\n",
       "27      132\n",
       "Name: count, dtype: int64"
      ]
     },
     "execution_count": 11,
     "metadata": {},
     "output_type": "execute_result"
    }
   ],
   "source": [
    "df_train.Classify.value_counts()"
   ]
  },
  {
   "cell_type": "code",
   "execution_count": 12,
   "id": "d240684a",
   "metadata": {},
   "outputs": [
    {
     "data": {
      "text/plain": [
       "0         Listening in to a conversation between his do...\n",
       "1         A brother and sister with a past incestuous r...\n",
       "2         As the bus empties the students for their fie...\n",
       "3         To help their unemployed father make ends mee...\n",
       "4         The film's title refers not only to the un-re...\n",
       "                               ...                        \n",
       "54195     In this \"\"concept\"\" essay documentary, 16 par...\n",
       "54196     Vulture Canyon is the only juvenile girls pri...\n",
       "54197     Alex, a young woman aged 18, lives with her m...\n",
       "54198     Ahmet Nurudin is a dervish and head of the Is...\n",
       "54199     Follow the life of Stephen, a young man just ...\n",
       "Name: DESCRIPTION, Length: 54200, dtype: object"
      ]
     },
     "execution_count": 12,
     "metadata": {},
     "output_type": "execute_result"
    }
   ],
   "source": [
    "df_train['DESCRIPTION'].head(54200)"
   ]
  },
  {
   "cell_type": "code",
   "execution_count": 13,
   "id": "00a146ea",
   "metadata": {},
   "outputs": [],
   "source": [
    "from imblearn.over_sampling import SMOTE\n",
    "from sklearn.datasets import make_classification\n",
    "\n",
    "vectorizer = TfidfVectorizer(max_features=120614)\n",
    "X_train_tfidf = vectorizer.fit_transform(df_train['DESCRIPTION'])\n"
   ]
  },
  {
   "cell_type": "code",
   "execution_count": 14,
   "id": "971532c2",
   "metadata": {},
   "outputs": [
    {
     "data": {
      "text/plain": [
       "<54214x120614 sparse matrix of type '<class 'numpy.float64'>'\n",
       "\twith 3730990 stored elements in Compressed Sparse Row format>"
      ]
     },
     "execution_count": 14,
     "metadata": {},
     "output_type": "execute_result"
    }
   ],
   "source": [
    "X_train_tfidf"
   ]
  },
  {
   "cell_type": "code",
   "execution_count": 15,
   "id": "0cccafbd",
   "metadata": {},
   "outputs": [],
   "source": [
    "# Apply SMOTE to the training data\n",
    "smote = SMOTE(random_state=42)\n",
    "DESCRIPTION , CLASSIFY = smote.fit_resample(X_train_tfidf,df_train['Classify'])"
   ]
  },
  {
   "cell_type": "code",
   "execution_count": 16,
   "id": "8b015737",
   "metadata": {},
   "outputs": [
    {
     "data": {
      "image/png": "[encoded data removed]",
      "text/plain": [
       "<Figure size 640x480 with 1 Axes>"
      ]
     },
     "metadata": {},
     "output_type": "display_data"
    }
   ],
   "source": [
    "import seaborn as sns\n",
    "import matplotlib.pyplot as plt\n",
    "\n",
    "sns.countplot(x=CLASSIFY)\n",
    "plt.show()"
   ]
  },
  {
   "cell_type": "code",
   "execution_count": 17,
   "id": "3b3f94c4",
   "metadata": {},
   "outputs": [],
   "source": [
    "from sklearn.model_selection import train_test_split"
   ]
  },
  {
   "cell_type": "code",
   "execution_count": 18,
   "id": "e2bbc037",
   "metadata": {},
   "outputs": [],
   "source": [
    "X_train, X_test, y_train, y_test = train_test_split(\n",
    "    DESCRIPTION , \n",
    "    CLASSIFY, \n",
    "    test_size=0.2, \n",
    "    random_state=2022,\n",
    "    stratify=CLASSIFY\n",
    ")"
   ]
  },
  {
   "cell_type": "code",
   "execution_count": 19,
   "id": "f8f3cb7c",
   "metadata": {},
   "outputs": [
    {
     "data": {
      "text/plain": [
       "331843    25\n",
       "295167    22\n",
       "195009    15\n",
       "313446    23\n",
       "317220    24\n",
       "          ..\n",
       "140595    10\n",
       "300287    22\n",
       "110193     8\n",
       "305567    23\n",
       "6467       2\n",
       "Name: Classify, Length: 294040, dtype: int64"
      ]
     },
     "execution_count": 19,
     "metadata": {},
     "output_type": "execute_result"
    }
   ],
   "source": [
    "y_train"
   ]
  },
  {
   "cell_type": "code",
   "execution_count": 20,
   "id": "f79a9e98",
   "metadata": {},
   "outputs": [
    {
     "data": {
      "text/plain": [
       "209651    16\n",
       "345693    26\n",
       "222716    17\n",
       "138985    10\n",
       "70346      5\n",
       "          ..\n",
       "262494    20\n",
       "322980    24\n",
       "209053    16\n",
       "54512      2\n",
       "65273      4\n",
       "Name: Classify, Length: 73511, dtype: int64"
      ]
     },
     "execution_count": 20,
     "metadata": {},
     "output_type": "execute_result"
    }
   ],
   "source": [
    "y_test"
   ]
  },
  {
   "cell_type": "code",
   "execution_count": 21,
   "id": "aa5c5dc6",
   "metadata": {},
   "outputs": [],
   "source": [
    "from sklearn.naive_bayes import MultinomialNB\n",
    "from sklearn.pipeline import make_pipeline\n",
    "\n",
    "model=MultinomialNB()\n",
    "\n",
    "model.fit(X_train,y_train)\n",
    "\n",
    "y_pred = model.predict(X_test)\n"
   ]
  },
  {
   "cell_type": "code",
   "execution_count": 22,
   "id": "f0a67b48",
   "metadata": {},
   "outputs": [
    {
     "data": {
      "text/plain": [
       "array([16, 26, 17, ..., 16,  2,  4], dtype=int64)"
      ]
     },
     "execution_count": 22,
     "metadata": {},
     "output_type": "execute_result"
    }
   ],
   "source": [
    "y_pred"
   ]
  },
  {
   "cell_type": "code",
   "execution_count": 23,
   "id": "0bcb2e5b",
   "metadata": {},
   "outputs": [
    {
     "name": "stdout",
     "output_type": "stream",
     "text": [
      "209651    16\n",
      "345693    26\n",
      "222716    17\n",
      "138985    10\n",
      "70346      5\n",
      "          ..\n",
      "262494    20\n",
      "322980    24\n",
      "209053    16\n",
      "54512      2\n",
      "65273      4\n",
      "Name: Classify, Length: 73511, dtype: int64\n"
     ]
    }
   ],
   "source": [
    "print(y_test)"
   ]
  },
  {
   "cell_type": "code",
   "execution_count": 24,
   "id": "5a5d2255",
   "metadata": {},
   "outputs": [
    {
     "name": "stdout",
     "output_type": "stream",
     "text": [
      "              precision    recall  f1-score   support\n",
      "\n",
      "           1       0.70      0.37      0.48      2723\n",
      "           2       0.77      0.66      0.71      2723\n",
      "           3       0.82      0.63      0.71      2722\n",
      "           4       0.81      0.60      0.69      2723\n",
      "           5       0.86      0.96      0.91      2722\n",
      "           6       0.78      0.94      0.85      2722\n",
      "           7       0.91      0.92      0.91      2723\n",
      "           8       0.96      0.99      0.98      2722\n",
      "           9       0.90      0.98      0.93      2723\n",
      "          10       0.94      0.95      0.95      2723\n",
      "          11       0.97      0.94      0.95      2722\n",
      "          12       0.92      0.98      0.95      2723\n",
      "          13       0.83      0.99      0.90      2722\n",
      "          14       0.92      0.98      0.95      2723\n",
      "          15       0.96      1.00      0.98      2723\n",
      "          16       0.95      0.99      0.97      2722\n",
      "          17       0.98      0.99      0.98      2723\n",
      "          18       0.95      0.99      0.97      2723\n",
      "          19       0.96      0.99      0.97      2723\n",
      "          20       0.97      1.00      0.98      2722\n",
      "          21       0.97      0.99      0.98      2723\n",
      "          22       0.98      1.00      0.99      2722\n",
      "          23       0.96      0.99      0.98      2723\n",
      "          24       0.98      1.00      0.99      2723\n",
      "          25       0.98      1.00      0.99      2723\n",
      "          26       0.99      1.00      0.99      2723\n",
      "          27       0.97      1.00      0.99      2722\n",
      "\n",
      "    accuracy                           0.92     73511\n",
      "   macro avg       0.91      0.92      0.91     73511\n",
      "weighted avg       0.91      0.92      0.91     73511\n",
      "\n"
     ]
    }
   ],
   "source": [
    "\n",
    "# Print classification report\n",
    "print(classification_report(y_test, y_pred))"
   ]
  },
  {
   "cell_type": "code",
   "execution_count": 25,
   "id": "eabed666",
   "metadata": {},
   "outputs": [
    {
     "name": "stdout",
     "output_type": "stream",
     "text": [
      "Complement Naive Bayes:\n",
      "              precision    recall  f1-score   support\n",
      "\n",
      "           1       0.77      0.09      0.16      2723\n",
      "           2       0.81      0.24      0.37      2723\n",
      "           3       0.89      0.42      0.57      2722\n",
      "           4       0.90      0.52      0.66      2723\n",
      "           5       0.88      0.94      0.91      2722\n",
      "           6       0.91      0.86      0.88      2722\n",
      "           7       0.93      0.88      0.90      2723\n",
      "           8       0.83      1.00      0.91      2722\n",
      "           9       0.92      0.92      0.92      2723\n",
      "          10       0.92      0.95      0.93      2723\n",
      "          11       0.93      0.94      0.94      2722\n",
      "          12       0.85      0.99      0.92      2723\n",
      "          13       0.80      0.99      0.88      2722\n",
      "          14       0.89      0.99      0.94      2723\n",
      "          15       0.83      1.00      0.91      2723\n",
      "          16       0.88      0.99      0.94      2722\n",
      "          17       0.91      0.99      0.95      2723\n",
      "          18       0.86      1.00      0.93      2723\n",
      "          19       0.90      1.00      0.94      2723\n",
      "          20       0.91      1.00      0.95      2722\n",
      "          21       0.88      0.99      0.93      2723\n",
      "          22       0.91      1.00      0.95      2722\n",
      "          23       0.86      1.00      0.92      2723\n",
      "          24       0.87      1.00      0.93      2723\n",
      "          25       0.86      1.00      0.92      2723\n",
      "          26       0.88      1.00      0.93      2723\n",
      "          27       0.84      1.00      0.91      2722\n",
      "\n",
      "    accuracy                           0.88     73511\n",
      "   macro avg       0.87      0.88      0.85     73511\n",
      "weighted avg       0.87      0.88      0.85     73511\n",
      "\n"
     ]
    }
   ],
   "source": [
    "\n",
    "from sklearn.naive_bayes import ComplementNB\n",
    "\n",
    "# Create a pipeline object with Complement Naive Bayes\n",
    "model2 = ComplementNB()\n",
    "\n",
    "# Fit with X_train and y_train\n",
    "model2.fit(X_train, y_train)\n",
    "\n",
    "# Get predictions for X_test and store it in y_pred\n",
    "y_pred_complement_nb = model2.predict(X_test)\n",
    "\n",
    "# Print the classification report\n",
    "print(\"Complement Naive Bayes:\")\n",
    "print(classification_report(y_test, y_pred_complement_nb))\n"
   ]
  },
  {
   "cell_type": "code",
   "execution_count": 26,
   "id": "36ad0e61",
   "metadata": {},
   "outputs": [
    {
     "name": "stderr",
     "output_type": "stream",
     "text": [
      "C:\\Users\\dell\\Anaconda\\envs\\Machinelearning\\Lib\\site-packages\\sklearn\\linear_model\\_logistic.py:458: ConvergenceWarning: lbfgs failed to converge (status=1):\n",
      "STOP: TOTAL NO. of ITERATIONS REACHED LIMIT.\n",
      "\n",
      "Increase the number of iterations (max_iter) or scale the data as shown in:\n",
      "    https://scikit-learn.org/stable/modules/preprocessing.html\n",
      "Please also refer to the documentation for alternative solver options:\n",
      "    https://scikit-learn.org/stable/modules/linear_model.html#logistic-regression\n",
      "  n_iter_i = _check_optimize_result(\n"
     ]
    },
    {
     "name": "stdout",
     "output_type": "stream",
     "text": [
      "Logistic Regression:\n",
      "              precision    recall  f1-score   support\n",
      "\n",
      "           1       0.67      0.54      0.60      2723\n",
      "           2       0.79      0.75      0.77      2723\n",
      "           3       0.77      0.75      0.76      2722\n",
      "           4       0.79      0.69      0.74      2723\n",
      "           5       0.95      0.94      0.95      2722\n",
      "           6       0.92      0.94      0.93      2722\n",
      "           7       0.93      0.97      0.95      2723\n",
      "           8       0.99      0.99      0.99      2722\n",
      "           9       0.96      0.98      0.97      2723\n",
      "          10       0.96      0.98      0.97      2723\n",
      "          11       0.98      0.98      0.98      2722\n",
      "          12       0.96      0.99      0.98      2723\n",
      "          13       0.94      0.99      0.96      2722\n",
      "          14       0.97      1.00      0.98      2723\n",
      "          15       0.98      1.00      0.99      2723\n",
      "          16       0.97      1.00      0.98      2722\n",
      "          17       0.98      1.00      0.99      2723\n",
      "          18       0.98      1.00      0.99      2723\n",
      "          19       0.99      1.00      0.99      2723\n",
      "          20       0.99      1.00      0.99      2722\n",
      "          21       0.99      1.00      0.99      2723\n",
      "          22       0.99      1.00      1.00      2722\n",
      "          23       0.99      1.00      1.00      2723\n",
      "          24       0.99      1.00      0.99      2723\n",
      "          25       1.00      1.00      1.00      2723\n",
      "          26       0.99      1.00      1.00      2723\n",
      "          27       0.99      1.00      0.99      2722\n",
      "\n",
      "    accuracy                           0.94     73511\n",
      "   macro avg       0.94      0.94      0.94     73511\n",
      "weighted avg       0.94      0.94      0.94     73511\n",
      "\n"
     ]
    }
   ],
   "source": [
    "from sklearn.linear_model import LogisticRegression\n",
    "\n",
    "# Create a pipeline object with Logistic Regression\n",
    "model3 = LogisticRegression()\n",
    "\n",
    "# Fit with X_train and y_train\n",
    "model3.fit(X_train, y_train)\n",
    "\n",
    "# Get predictions for X_test and store it in y_pred\n",
    "y_pred_logistic = model3.predict(X_test)\n",
    "\n",
    "# Print the classification report\n",
    "print(\"Logistic Regression:\")\n",
    "print(classification_report(y_test, y_pred_logistic))\n"
   ]
  },
  {
   "cell_type": "code",
   "execution_count": 27,
   "id": "1186aeca",
   "metadata": {},
   "outputs": [
    {
     "data": {
      "text/plain": [
       "['MultinomialNB.pkl']"
      ]
     },
     "execution_count": 27,
     "metadata": {},
     "output_type": "execute_result"
    }
   ],
   "source": [
    "import joblib\n",
    "\n",
    "joblib.dump(model, 'MultinomialNB.pkl')"
   ]
  },
  {
   "cell_type": "code",
   "execution_count": 28,
   "id": "15a19915",
   "metadata": {},
   "outputs": [
    {
     "data": {
      "text/plain": [
       "['ComplementNB.pkl']"
      ]
     },
     "execution_count": 28,
     "metadata": {},
     "output_type": "execute_result"
    }
   ],
   "source": [
    "joblib.dump(model2, 'ComplementNB.pkl')"
   ]
  },
  {
   "cell_type": "code",
   "execution_count": 29,
   "id": "7c8611c4",
   "metadata": {},
   "outputs": [
    {
     "data": {
      "text/plain": [
       "['LogisticRegression.pkl']"
      ]
     },
     "execution_count": 29,
     "metadata": {},
     "output_type": "execute_result"
    }
   ],
   "source": [
    "joblib.dump(model3, 'LogisticRegression.pkl')"
   ]
  }
 ],
 "metadata": {
  "kernelspec": {
   "display_name": "Python 3 (ipykernel)",
   "language": "python",
   "name": "python3"
  },
  "language_info": {
   "codemirror_mode": {
    "name": "ipython",
    "version": 3
   },
   "file_extension": ".py",
   "mimetype": "text/x-python",
   "name": "python",
   "nbconvert_exporter": "python",
   "pygments_lexer": "ipython3",
   "version": "3.11.5"
  }
 },
 "nbformat": 4,
 "nbformat_minor": 5
}
