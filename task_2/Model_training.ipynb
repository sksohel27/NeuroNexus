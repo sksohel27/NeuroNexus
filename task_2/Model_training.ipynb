{
 "cells": [
  {
   "cell_type": "code",
   "execution_count": null,
   "id": "22f9ed59",
   "metadata": {},
   "outputs": [],
   "source": [
    "import pandas as pd\n",
    "from sklearn.model_selection import train_test_split\n",
    "from sklearn.preprocessing import StandardScaler\n",
    "from sklearn.linear_model import LogisticRegression\n",
    "from sklearn.tree import DecisionTreeClassifier\n",
    "from sklearn.ensemble import RandomForestClassifier\n",
    "from sklearn.metrics import accuracy_score, precision_score, recall_score, f1_score, confusion_matrix\n",
    "from sklearn.metrics import classification_report, accuracy_score"
   ]
  },
  {
   "cell_type": "code",
   "execution_count": null,
   "id": "ef96aef0",
   "metadata": {},
   "outputs": [],
   "source": [
    "df=pd.read_csv('fraudTrain.csv')\n",
    "df"
   ]
  },
  {
   "cell_type": "code",
   "execution_count": null,
   "id": "c0599bda",
   "metadata": {},
   "outputs": [],
   "source": [
    "df = df.drop(df.columns[:2], axis=1)\n"
   ]
  },
  {
   "cell_type": "code",
   "execution_count": null,
   "id": "c27121b8",
   "metadata": {},
   "outputs": [],
   "source": [
    "df['Name'] = df['first'] + ' ' + df['last']\n",
    "df = df.drop(['first', 'last'], axis=1)\n",
    "df['Address'] = df['street'] + ', ' + df['city'] + ', ' + df['state'] + ',' + df['zip'].astype(str)\n",
    "df = df.drop(['street', 'city', 'state', 'zip'], axis=1)"
   ]
  },
  {
   "cell_type": "code",
   "execution_count": null,
   "id": "beaec1ee",
   "metadata": {},
   "outputs": [],
   "source": [
    "df"
   ]
  },
  {
   "cell_type": "code",
   "execution_count": null,
   "id": "17e238f8",
   "metadata": {},
   "outputs": [],
   "source": [
    "from sklearn.preprocessing import LabelEncoder\n",
    "\n",
    "categorical_columns = ['merchant', 'category', 'gender', 'job', 'dob', 'trans_num', 'Name', 'Address']\n",
    "\n",
    "label_encoder = LabelEncoder()\n",
    "\n",
    "for col in categorical_columns:\n",
    "    df[col] = label_encoder.fit_transform(df[col])"
   ]
  },
  {
   "cell_type": "code",
   "execution_count": null,
   "id": "7a689fff",
   "metadata": {},
   "outputs": [],
   "source": [
    "target_variable = 'is_fraud'\n",
    "\n",
    "X = df.drop(target_variable,axis=1)\n",
    "X"
   ]
  },
  {
   "cell_type": "code",
   "execution_count": null,
   "id": "2f216a37",
   "metadata": {},
   "outputs": [],
   "source": [
    "y = df[target_variable]\n",
    "y"
   ]
  },
  {
   "cell_type": "code",
   "execution_count": null,
   "id": "7b8f9d9d",
   "metadata": {},
   "outputs": [],
   "source": [
    "X_train, X_test, y_train, y_test = train_test_split(X, y, test_size=0.2, random_state=42)"
   ]
  },
  {
   "cell_type": "code",
   "execution_count": null,
   "id": "d97b9f9d",
   "metadata": {},
   "outputs": [],
   "source": [
    "scaler = StandardScaler()\n",
    "\n",
    "X_train = scaler.fit_transform(X_train)\n",
    "X_test=scaler.fit_transform(X_test)"
   ]
  },
  {
   "cell_type": "code",
   "execution_count": null,
   "id": "0a8b5ff0",
   "metadata": {},
   "outputs": [],
   "source": [
    "model1 = LogisticRegression(random_state=42)\n",
    "model1.fit(X_train, y_train)\n",
    "\n",
    "model2 = RandomForestClassifier(random_state=42)\n",
    "model2.fit(X_train, y_train)\n",
    "\n",
    "model3 = DecisionTreeClassifier(random_state=42)\n",
    "model3.fit(X_train, y_train)"
   ]
  },
  {
   "cell_type": "code",
   "execution_count": null,
   "id": "38e04330",
   "metadata": {},
   "outputs": [],
   "source": [
    "# Make predictions on the test set\n",
    "y_pred1 = model1.predict(X_test)\n",
    "y_pred2 = model2.predict(X_test)\n",
    "y_pred3 = model3.predict(X_test)"
   ]
  },
  {
   "cell_type": "code",
   "execution_count": null,
   "id": "39da25d9",
   "metadata": {},
   "outputs": [],
   "source": [
    "#logistic Regression\n",
    "print(\"Accuracy:\", accuracy_score(y_test, y_pred1))\n",
    "print(\"Logistic Classification Report:\\n\", classification_report(y_test, y_pred1))\n",
    "\n",
    "#RandomForest\n",
    "print(\"Accuracy:\", accuracy_score(y_test, y_pred2))\n",
    "print(\"Random Forest Classification Report:\\n\", classification_report(y_test, y_pred2))\n",
    "\n",
    "#DecisionTreeClassfier\n",
    "print(\"Accuracy:\", accuracy_score(y_test, y_pred3))\n",
    "print(\"DecisionTree Classification Report:\\n\", classification_report(y_test, y_pred3))"
   ]
  },
  {
   "cell_type": "code",
   "execution_count": null,
   "id": "816a4567",
   "metadata": {},
   "outputs": [],
   "source": [
    "import joblib\n",
    "\n",
    "joblib.dump(model1, 'Logistic.joblib')\n",
    "joblib.dump(model2, 'RandomForest.joblib')\n",
    "joblib.dump(model3, 'DecisionTree.joblib')\n"
   ]
  }
 ],
 "metadata": {
  "kernelspec": {
   "display_name": "Python 3 (ipykernel)",
   "language": "python",
   "name": "python3"
  },
  "language_info": {
   "codemirror_mode": {
    "name": "ipython",
    "version": 3
   },
   "file_extension": ".py",
   "mimetype": "text/x-python",
   "name": "python",
   "nbconvert_exporter": "python",
   "pygments_lexer": "ipython3",
   "version": "3.11.5"
  }
 },
 "nbformat": 4,
 "nbformat_minor": 5
}
