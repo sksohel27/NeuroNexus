{
 "cells": [
  {
   "cell_type": "code",
   "execution_count": null,
   "id": "5758ded5",
   "metadata": {},
   "outputs": [],
   "source": [
    "import pandas as pd\n",
    "\n",
    "df=pd.read_csv('fraudTest.csv')\n",
    "df"
   ]
  },
  {
   "cell_type": "code",
   "execution_count": null,
   "id": "b56eb310",
   "metadata": {},
   "outputs": [],
   "source": [
    "df = df.drop(df.columns[:2], axis=1)"
   ]
  },
  {
   "cell_type": "code",
   "execution_count": null,
   "id": "076bd24b",
   "metadata": {},
   "outputs": [],
   "source": [
    "df['Name'] = df['first'] + ' ' + df['last']\n",
    "df = df.drop(['first', 'last'], axis=1)\n",
    "df['Address'] = df['street'] + ', ' + df['city'] + ', ' + df['state'] + ',' + df['zip'].astype(str)\n",
    "df = df.drop(['street', 'city', 'state', 'zip'], axis=1)"
   ]
  },
  {
   "cell_type": "code",
   "execution_count": null,
   "id": "6598b29e",
   "metadata": {},
   "outputs": [],
   "source": [
    "from sklearn.preprocessing import LabelEncoder\n",
    "\n",
    "categorical_columns = ['merchant', 'category', 'gender', 'job', 'dob', 'trans_num', 'Name', 'Address']\n",
    "\n",
    "label_encoder = LabelEncoder()\n",
    "\n",
    "for col in categorical_columns:\n",
    "    df[col] = label_encoder.fit_transform(df[col])"
   ]
  },
  {
   "cell_type": "code",
   "execution_count": null,
   "id": "2592c538",
   "metadata": {},
   "outputs": [],
   "source": [
    "df2=df.drop('is_fraud',axis=1)\n",
    "df2"
   ]
  },
  {
   "cell_type": "code",
   "execution_count": null,
   "id": "18cc24b4",
   "metadata": {},
   "outputs": [],
   "source": [
    "import joblib\n",
    "model1 = joblib.load('Logistic.joblib')\n",
    "model2 = joblib.load('RandomForest.joblib')\n",
    "model3 = joblib.load('DecisionTree.joblib')"
   ]
  },
  {
   "cell_type": "code",
   "execution_count": null,
   "id": "2d71a5d6",
   "metadata": {},
   "outputs": [],
   "source": [
    "from sklearn.preprocessing import StandardScaler\n",
    "scaler = StandardScaler()\n",
    "\n",
    "df2 = scaler.fit_transform(df2)"
   ]
  },
  {
   "cell_type": "code",
   "execution_count": null,
   "id": "463b4378",
   "metadata": {},
   "outputs": [],
   "source": [
    "predictions = model1.predict(df2)\n",
    "predictions2=model2.predict(df2)\n",
    "predictions3=model3.predict(df2)"
   ]
  },
  {
   "cell_type": "code",
   "execution_count": null,
   "id": "7d84dea0",
   "metadata": {},
   "outputs": [],
   "source": [
    "predictions"
   ]
  },
  {
   "cell_type": "code",
   "execution_count": null,
   "id": "c949d337",
   "metadata": {},
   "outputs": [],
   "source": [
    "predictions_df = pd.DataFrame()\n",
    "predictions_df['predicted_is_fraud_Logistic'] = predictions\n",
    "predictions_df['predicted_is_fraud_RandomForest'] = predictions2\n",
    "predictions_df['predicted_is_fraud_DecisionTree'] = predictions3\n",
    "predictions_df"
   ]
  },
  {
   "cell_type": "code",
   "execution_count": null,
   "id": "658edf95",
   "metadata": {},
   "outputs": [],
   "source": [
    "from sklearn.metrics import accuracy_score, confusion_matrix, classification_report\n",
    "\n",
    "#Logistic Regression\n",
    "accuracy_logistic = accuracy_score(df['is_fraud'], predictions_df['predicted_is_fraud_Logistic'])\n",
    "conf_matrix_logistic = confusion_matrix(df['is_fraud'], predictions_df['predicted_is_fraud_Logistic'])\n",
    "classification_rep_logistic = classification_report(df['is_fraud'], predictions_df['predicted_is_fraud_Logistic'])\n",
    "\n",
    "\n",
    "print(\"Logistic Regression Model:\")\n",
    "print(\"Accuracy:\", accuracy_logistic)\n",
    "print(\"Confusion Matrix:\\n\", conf_matrix_logistic)\n",
    "print(\"Classification Report:\\n\", classification_rep_logistic)"
   ]
  },
  {
   "cell_type": "code",
   "execution_count": null,
   "id": "36620afe",
   "metadata": {},
   "outputs": [],
   "source": [
    "# Random Forest\n",
    "accuracy_rf = accuracy_score(df['is_fraud'], predictions_df['predicted_is_fraud_RandomForest'])\n",
    "conf_matrix_rf = confusion_matrix(df['is_fraud'], predictions_df['predicted_is_fraud_RandomForest'])\n",
    "classification_rep_rf = classification_report(df['is_fraud'], predictions_df['predicted_is_fraud_RandomForest'])\n",
    "\n",
    "# Decision Tree\n",
    "print(\"\\nRandom Forest Model:\")\n",
    "print(\"Accuracy:\", accuracy_rf)\n",
    "print(\"Confusion Matrix:\\n\", conf_matrix_rf)\n",
    "print(\"Classification Report:\\n\", classification_rep_rf)"
   ]
  },
  {
   "cell_type": "code",
   "execution_count": null,
   "id": "03339966",
   "metadata": {},
   "outputs": [],
   "source": [
    "# Decision Tree\n",
    "accuracy_dt = accuracy_score(df['is_fraud'], predictions_df['predicted_is_fraud_DecisionTree'])\n",
    "conf_matrix_dt = confusion_matrix(df['is_fraud'], predictions_df['predicted_is_fraud_DecisionTree'])\n",
    "classification_rep_dt = classification_report(df['is_fraud'], predictions_df['predicted_is_fraud_DecisionTree'])\n",
    "\n",
    "print(\"\\nDecision Tree Model:\")\n",
    "print(\"Accuracy:\", accuracy_dt)\n",
    "print(\"Confusion Matrix:\\n\", conf_matrix_dt)\n",
    "print(\"Classification Report:\\n\", classification_rep_dt)"
   ]
  },
  {
   "cell_type": "code",
   "execution_count": null,
   "id": "5c8cd55d",
   "metadata": {},
   "outputs": [],
   "source": [
    "import matplotlib.pyplot as plt\n",
    "import seaborn as sns\n",
    "from sklearn.metrics import confusion_matrix\n",
    "\n",
    "# Plot confusion matrix heatmap\n",
    "sns.heatmap(conf_matrix_logistic, annot=True, fmt='d', cmap='Blues')\n",
    "plt.xlabel('Predicted')\n",
    "plt.ylabel('Actual')\n",
    "plt.title('Confusion Matrix')\n",
    "plt.show()\n"
   ]
  },
  {
   "cell_type": "code",
   "execution_count": null,
   "id": "12c27c25",
   "metadata": {},
   "outputs": [],
   "source": [
    "import matplotlib.pyplot as plt\n",
    "import seaborn as sns\n",
    "from sklearn.metrics import confusion_matrix\n",
    "\n",
    "# Plot confusion matrix heatmap\n",
    "sns.heatmap(conf_matrix_rf, annot=True, fmt='d', cmap='Blues')\n",
    "plt.xlabel('Predicted')\n",
    "plt.ylabel('Actual')\n",
    "plt.title('Confusion Matrix')\n",
    "plt.show()\n"
   ]
  },
  {
   "cell_type": "code",
   "execution_count": null,
   "id": "0c92d67e",
   "metadata": {},
   "outputs": [],
   "source": [
    "import matplotlib.pyplot as plt\n",
    "import seaborn as sns\n",
    "from sklearn.metrics import confusion_matrix\n",
    "\n",
    "# Plot confusion matrix heatmap\n",
    "sns.heatmap(conf_matrix_dt, annot=True, fmt='d', cmap='Blues')\n",
    "plt.xlabel('Predicted')\n",
    "plt.ylabel('Actual')\n",
    "plt.title('Confusion Matrix')\n",
    "plt.show()\n"
   ]
  },
  {
   "cell_type": "code",
   "execution_count": null,
   "id": "d5b11f8b",
   "metadata": {},
   "outputs": [],
   "source": []
  }
 ],
 "metadata": {
  "kernelspec": {
   "display_name": "Python 3 (ipykernel)",
   "language": "python",
   "name": "python3"
  },
  "language_info": {
   "codemirror_mode": {
    "name": "ipython",
    "version": 3
   },
   "file_extension": ".py",
   "mimetype": "text/x-python",
   "name": "python",
   "nbconvert_exporter": "python",
   "pygments_lexer": "ipython3",
   "version": "3.11.5"
  }
 },
 "nbformat": 4,
 "nbformat_minor": 5
}
