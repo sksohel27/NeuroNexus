{
 "cells": [
  {
   "cell_type": "code",
   "execution_count": null,
   "id": "9e4efd35",
   "metadata": {},
   "outputs": [],
   "source": [
    "import pandas as pd\n",
    "import numpy as np\n",
    "from sklearn.model_selection import train_test_split\n",
    "from sklearn.feature_extraction.text import TfidfVectorizer\n",
    "from sklearn.linear_model import LogisticRegression\n",
    "from sklearn.metrics import accuracy_score, classification_report"
   ]
  },
  {
   "cell_type": "code",
   "execution_count": null,
   "id": "1680d6e1",
   "metadata": {},
   "outputs": [],
   "source": [
    "train_path = 'spam2.txt'\n",
    "train_output_path = 'spam.csv'\n",
    "\n",
    "columns_train = ['V1','V2']\n",
    "df_train = pd.read_csv(train_path, sep=',,,', header=None, names=columns_train, engine='python',encoding='ISO-8859-1')\n",
    "\n",
    "#to CSV file\n",
    "df_train.to_csv(train_output_path, index=False)"
   ]
  },
  {
   "cell_type": "code",
   "execution_count": null,
   "id": "ba742e3d",
   "metadata": {},
   "outputs": [],
   "source": [
    "df_train"
   ]
  },
  {
   "cell_type": "code",
   "execution_count": null,
   "id": "b2d0beed",
   "metadata": {},
   "outputs": [],
   "source": [
    "df_train"
   ]
  },
  {
   "cell_type": "code",
   "execution_count": null,
   "id": "2dbbac41",
   "metadata": {},
   "outputs": [],
   "source": [
    "df_train[['V1', 'V2']] = df_train['V1'].apply(lambda x: pd.Series(str(x).split(',', 1)))\n",
    "\n",
    "df_train['V1'] = df_train['V1'].str.replace('\"', '')\n",
    "df_train['V2'] = df_train['V2'].str.replace('\"', '')"
   ]
  },
  {
   "cell_type": "code",
   "execution_count": null,
   "id": "6fe56d17",
   "metadata": {},
   "outputs": [],
   "source": [
    "df_train.columns = df_train.iloc[0]\n",
    "df_train = df_train[1:]"
   ]
  },
  {
   "cell_type": "code",
   "execution_count": null,
   "id": "5264e228",
   "metadata": {},
   "outputs": [],
   "source": [
    "df_train"
   ]
  },
  {
   "cell_type": "code",
   "execution_count": null,
   "id": "f6a07217",
   "metadata": {},
   "outputs": [],
   "source": [
    "df_train.v1.value_counts()"
   ]
  },
  {
   "cell_type": "code",
   "execution_count": null,
   "id": "7c9bb183",
   "metadata": {},
   "outputs": [],
   "source": [
    "df_train = df_train.dropna(subset=['v2'])"
   ]
  },
  {
   "cell_type": "code",
   "execution_count": null,
   "id": "7278ec03",
   "metadata": {},
   "outputs": [],
   "source": [
    "df_train['label'] = df_train['v1'].map({'ham': 0, 'spam': 1})"
   ]
  },
  {
   "cell_type": "code",
   "execution_count": null,
   "id": "98daca23",
   "metadata": {},
   "outputs": [],
   "source": [
    "df_train.label.value_counts()"
   ]
  },
  {
   "cell_type": "code",
   "execution_count": null,
   "id": "47a6997d",
   "metadata": {},
   "outputs": [],
   "source": [
    "df_train"
   ]
  },
  {
   "cell_type": "code",
   "execution_count": null,
   "id": "baacf189",
   "metadata": {},
   "outputs": [],
   "source": [
    "vectorizer = TfidfVectorizer(max_features=120614)\n",
    "X_train_tfidf = vectorizer.fit_transform(df_train['v2'])"
   ]
  },
  {
   "cell_type": "code",
   "execution_count": null,
   "id": "b6509c96",
   "metadata": {},
   "outputs": [],
   "source": [
    "from sklearn.model_selection import train_test_split"
   ]
  },
  {
   "cell_type": "code",
   "execution_count": null,
   "id": "eafdf28c",
   "metadata": {},
   "outputs": [],
   "source": [
    "X_train, X_test, y_train, y_test = train_test_split(\n",
    "    X_train_tfidf , \n",
    "    df_train['label'], \n",
    "    test_size=0.2, \n",
    "    random_state=2022,\n",
    "    stratify=df_train['label']\n",
    ")"
   ]
  },
  {
   "cell_type": "code",
   "execution_count": null,
   "id": "adeb100c",
   "metadata": {},
   "outputs": [],
   "source": [
    "#MultinomialNB\n",
    "from sklearn.naive_bayes import MultinomialNB\n",
    "from sklearn.pipeline import make_pipeline\n",
    "\n",
    "model=MultinomialNB()\n",
    "\n",
    "model.fit(X_train,y_train)\n",
    "\n",
    "y_pred = model.predict(X_test)\n",
    "\n",
    "print(classification_report(y_test, y_pred))"
   ]
  },
  {
   "cell_type": "code",
   "execution_count": null,
   "id": "dfdef2db",
   "metadata": {},
   "outputs": [],
   "source": [
    "#ComplementNB\n",
    "from sklearn.naive_bayes import ComplementNB\n",
    "\n",
    "# Create a pipeline object with Complement Naive Bayes\n",
    "model2 = ComplementNB()\n",
    "\n",
    "# Fit with X_train and y_train\n",
    "model2.fit(X_train, y_train)\n",
    "\n",
    "# Get predictions for X_test and store it in y_pred\n",
    "y_pred_complement_nb = model2.predict(X_test)\n",
    "\n",
    "# Print the classification report\n",
    "print(\"Complement Naive Bayes:\")\n",
    "print(classification_report(y_test, y_pred_complement_nb))\n"
   ]
  },
  {
   "cell_type": "code",
   "execution_count": null,
   "id": "1e8936c2",
   "metadata": {},
   "outputs": [],
   "source": [
    "#Logistic Regression\n",
    "from sklearn.linear_model import LogisticRegression\n",
    "\n",
    "# Create a pipeline object with Logistic Regression\n",
    "model3 = LogisticRegression()\n",
    "\n",
    "# Fit with X_train and y_train\n",
    "model3.fit(X_train, y_train)\n",
    "\n",
    "# Get predictions for X_test and store it in y_pred\n",
    "y_pred_logistic = model3.predict(X_test)\n",
    "\n",
    "# Print the classification report\n",
    "print(\"Logistic Regression:\")\n",
    "print(classification_report(y_test, y_pred_logistic))\n"
   ]
  },
  {
   "cell_type": "code",
   "execution_count": null,
   "id": "05cca507",
   "metadata": {},
   "outputs": [],
   "source": [
    "#SVM\n",
    "from sklearn.svm import SVC\n",
    "\n",
    "# Create a pipeline object with Logistic Regression\n",
    "model4 = SVC()\n",
    "\n",
    "# Fit with X_train and y_train\n",
    "model4.fit(X_train, y_train)\n",
    "\n",
    "# Get predictions for X_test and store it in y_pred\n",
    "y_pred_svm = model4.predict(X_test)\n",
    "\n",
    "# Print the classification report\n",
    "print(\"SVM Regression:\")\n",
    "print(classification_report(y_test, y_pred_svm))\n"
   ]
  },
  {
   "cell_type": "code",
   "execution_count": null,
   "id": "10b5c110",
   "metadata": {},
   "outputs": [],
   "source": [
    "import joblib\n",
    "\n",
    "joblib.dump(model, 'MultinomialNB.pkl')"
   ]
  },
  {
   "cell_type": "code",
   "execution_count": null,
   "id": "37096a23",
   "metadata": {},
   "outputs": [],
   "source": [
    "joblib.dump(model2, 'ComplementNB.pkl')"
   ]
  },
  {
   "cell_type": "code",
   "execution_count": null,
   "id": "96b8035d",
   "metadata": {},
   "outputs": [],
   "source": [
    "joblib.dump(model3, 'LogisticRegression.pkl')"
   ]
  },
  {
   "cell_type": "code",
   "execution_count": null,
   "id": "dbf9ba49",
   "metadata": {},
   "outputs": [],
   "source": [
    "joblib.dump(model4, 'SVM.pkl')"
   ]
  }
 ],
 "metadata": {
  "kernelspec": {
   "display_name": "Python 3 (ipykernel)",
   "language": "python",
   "name": "python3"
  },
  "language_info": {
   "codemirror_mode": {
    "name": "ipython",
    "version": 3
   },
   "file_extension": ".py",
   "mimetype": "text/x-python",
   "name": "python",
   "nbconvert_exporter": "python",
   "pygments_lexer": "ipython3",
   "version": "3.11.5"
  }
 },
 "nbformat": 4,
 "nbformat_minor": 5
}
